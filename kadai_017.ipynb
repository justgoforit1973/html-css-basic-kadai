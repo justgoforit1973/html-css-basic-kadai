{
  "nbformat": 4,
  "nbformat_minor": 0,
  "metadata": {
    "colab": {
      "provenance": [],
      "authorship_tag": "ABX9TyNKK5UfcGP1XHZtByUNIVfH",
      "include_colab_link": true
    },
    "kernelspec": {
      "name": "python3",
      "display_name": "Python 3"
    },
    "language_info": {
      "name": "python"
    }
  },
  "cells": [
    {
      "cell_type": "markdown",
      "metadata": {
        "id": "view-in-github",
        "colab_type": "text"
      },
      "source": [
        "<a href=\"https://colab.research.google.com/github/justgoforit1973/html-css-basic-kadai/blob/main/kadai_017.ipynb\" target=\"_parent\"><img src=\"https://colab.research.google.com/assets/colab-badge.svg\" alt=\"Open In Colab\"/></a>"
      ]
    },
    {
      "cell_type": "code",
      "execution_count": 5,
      "metadata": {
        "colab": {
          "base_uri": "https://localhost:8080/"
        },
        "id": "IdrgChQYyLAe",
        "outputId": "4b81e15d-69ad-411d-b761-700d585b868c"
      },
      "outputs": [
        {
          "output_type": "stream",
          "name": "stdout",
          "text": [
            "[<__main__.Human object at 0x7bad15907820>, <__main__.Human object at 0x7bad15907340>, <__main__.Human object at 0x7bad15904070>, <__main__.Human object at 0x7bad15905420>]\n",
            "Uedaは大人です。\n",
            "Kenは大人ではありません。\n",
            "Fukudaは大人ではありません。\n",
            "Tanakaは大人です。\n"
          ]
        }
      ],
      "source": [
        "from re import X\n",
        "from IPython.utils.path import get_ipython_cache_dir\n",
        "class Human:\n",
        "  def __init__(self,name, age):\n",
        "    self.name = name\n",
        "    self.age = age\n",
        "\n",
        "  def check_adult(self):\n",
        "    if self.age >= 20:\n",
        "      print(f\"{self.name}は大人です。\")\n",
        "\n",
        "    else:\n",
        "      print(f\"{self.name}は大人ではありません。\")\n",
        "\n",
        "person1 = Human('Ueda', 49)\n",
        "person2 = Human(\"Ken\", 12)\n",
        "person4 = Human(\"Tanaka\", 24)\n",
        "person3 = Human(\"Fukuda\", 9)\n",
        "\n",
        "human_list = [person1, person2, person3, person4]\n",
        "print(human_list)\n",
        "\n",
        "for person in human_list:\n",
        "  person.check_adult()\n",
        "\n",
        "\n",
        "\n",
        "\n",
        "\n",
        "\n",
        "\n",
        "\n",
        "\n"
      ]
    },
    {
      "cell_type": "code",
      "source": [
        "\n",
        "\n",
        "list = ['a','s','c','f']\n",
        "print(list[1])"
      ],
      "metadata": {
        "colab": {
          "base_uri": "https://localhost:8080/"
        },
        "id": "bjmeBnccH9q_",
        "outputId": "84db20d8-aefd-45f6-ad4a-6779047619e1"
      },
      "execution_count": null,
      "outputs": [
        {
          "output_type": "stream",
          "name": "stdout",
          "text": [
            "s\n"
          ]
        }
      ]
    }
  ]
}